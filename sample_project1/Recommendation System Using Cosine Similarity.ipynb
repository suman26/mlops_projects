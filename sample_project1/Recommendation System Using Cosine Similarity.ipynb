{
 "cells": [
  {
   "cell_type": "code",
   "execution_count": 1,
   "id": "b512eb4f",
   "metadata": {},
   "outputs": [],
   "source": [
    "import pandas as pd\n",
    "import numpy as np \n",
    "import matplotlib.pyplot as plt \n",
    "%matplotlib inline \n",
    "import seaborn as sns\n",
    "from itertools import combinations"
   ]
  },
  {
   "cell_type": "code",
   "execution_count": 2,
   "id": "e9456940",
   "metadata": {},
   "outputs": [],
   "source": [
    "df=pd.read_csv('netflix_titles.csv')"
   ]
  },
  {
   "cell_type": "code",
   "execution_count": 3,
   "id": "f5716b11",
   "metadata": {},
   "outputs": [
    {
     "data": {
      "text/html": [
       "<div>\n",
       "<style scoped>\n",
       "    .dataframe tbody tr th:only-of-type {\n",
       "        vertical-align: middle;\n",
       "    }\n",
       "\n",
       "    .dataframe tbody tr th {\n",
       "        vertical-align: top;\n",
       "    }\n",
       "\n",
       "    .dataframe thead th {\n",
       "        text-align: right;\n",
       "    }\n",
       "</style>\n",
       "<table border=\"1\" class=\"dataframe\">\n",
       "  <thead>\n",
       "    <tr style=\"text-align: right;\">\n",
       "      <th></th>\n",
       "      <th>show_id</th>\n",
       "      <th>type</th>\n",
       "      <th>title</th>\n",
       "      <th>director</th>\n",
       "      <th>cast</th>\n",
       "      <th>country</th>\n",
       "      <th>date_added</th>\n",
       "      <th>release_year</th>\n",
       "      <th>rating</th>\n",
       "      <th>duration</th>\n",
       "      <th>listed_in</th>\n",
       "      <th>description</th>\n",
       "    </tr>\n",
       "  </thead>\n",
       "  <tbody>\n",
       "    <tr>\n",
       "      <th>0</th>\n",
       "      <td>s1</td>\n",
       "      <td>Movie</td>\n",
       "      <td>Dick Johnson Is Dead</td>\n",
       "      <td>Kirsten Johnson</td>\n",
       "      <td>NaN</td>\n",
       "      <td>United States</td>\n",
       "      <td>September 25, 2021</td>\n",
       "      <td>2020</td>\n",
       "      <td>PG-13</td>\n",
       "      <td>90 min</td>\n",
       "      <td>Documentaries</td>\n",
       "      <td>As her father nears the end of his life, filmm...</td>\n",
       "    </tr>\n",
       "    <tr>\n",
       "      <th>1</th>\n",
       "      <td>s2</td>\n",
       "      <td>TV Show</td>\n",
       "      <td>Blood &amp; Water</td>\n",
       "      <td>NaN</td>\n",
       "      <td>Ama Qamata, Khosi Ngema, Gail Mabalane, Thaban...</td>\n",
       "      <td>South Africa</td>\n",
       "      <td>September 24, 2021</td>\n",
       "      <td>2021</td>\n",
       "      <td>TV-MA</td>\n",
       "      <td>2 Seasons</td>\n",
       "      <td>International TV Shows, TV Dramas, TV Mysteries</td>\n",
       "      <td>After crossing paths at a party, a Cape Town t...</td>\n",
       "    </tr>\n",
       "  </tbody>\n",
       "</table>\n",
       "</div>"
      ],
      "text/plain": [
       "  show_id     type                 title         director  \\\n",
       "0      s1    Movie  Dick Johnson Is Dead  Kirsten Johnson   \n",
       "1      s2  TV Show         Blood & Water              NaN   \n",
       "\n",
       "                                                cast        country  \\\n",
       "0                                                NaN  United States   \n",
       "1  Ama Qamata, Khosi Ngema, Gail Mabalane, Thaban...   South Africa   \n",
       "\n",
       "           date_added  release_year rating   duration  \\\n",
       "0  September 25, 2021          2020  PG-13     90 min   \n",
       "1  September 24, 2021          2021  TV-MA  2 Seasons   \n",
       "\n",
       "                                         listed_in  \\\n",
       "0                                    Documentaries   \n",
       "1  International TV Shows, TV Dramas, TV Mysteries   \n",
       "\n",
       "                                         description  \n",
       "0  As her father nears the end of his life, filmm...  \n",
       "1  After crossing paths at a party, a Cape Town t...  "
      ]
     },
     "execution_count": 3,
     "metadata": {},
     "output_type": "execute_result"
    }
   ],
   "source": [
    "df.head(2)"
   ]
  },
  {
   "cell_type": "code",
   "execution_count": 4,
   "id": "4ee9e4b8",
   "metadata": {},
   "outputs": [
    {
     "name": "stdout",
     "output_type": "stream",
     "text": [
      "<class 'pandas.core.frame.DataFrame'>\n",
      "RangeIndex: 8807 entries, 0 to 8806\n",
      "Data columns (total 12 columns):\n",
      " #   Column        Non-Null Count  Dtype \n",
      "---  ------        --------------  ----- \n",
      " 0   show_id       8807 non-null   object\n",
      " 1   type          8807 non-null   object\n",
      " 2   title         8807 non-null   object\n",
      " 3   director      6173 non-null   object\n",
      " 4   cast          7982 non-null   object\n",
      " 5   country       7976 non-null   object\n",
      " 6   date_added    8797 non-null   object\n",
      " 7   release_year  8807 non-null   int64 \n",
      " 8   rating        8803 non-null   object\n",
      " 9   duration      8804 non-null   object\n",
      " 10  listed_in     8807 non-null   object\n",
      " 11  description   8807 non-null   object\n",
      "dtypes: int64(1), object(11)\n",
      "memory usage: 825.8+ KB\n"
     ]
    }
   ],
   "source": [
    "df.info()"
   ]
  },
  {
   "cell_type": "code",
   "execution_count": 5,
   "id": "6a67a4a1",
   "metadata": {},
   "outputs": [
    {
     "data": {
      "text/plain": [
       "show_id            0\n",
       "type               0\n",
       "title              0\n",
       "director        2634\n",
       "cast             825\n",
       "country          831\n",
       "date_added        10\n",
       "release_year       0\n",
       "rating             4\n",
       "duration           3\n",
       "listed_in          0\n",
       "description        0\n",
       "dtype: int64"
      ]
     },
     "execution_count": 5,
     "metadata": {},
     "output_type": "execute_result"
    }
   ],
   "source": [
    "df.isnull().sum()"
   ]
  },
  {
   "cell_type": "markdown",
   "id": "646eb607",
   "metadata": {},
   "source": [
    "### Data Visualization "
   ]
  },
  {
   "cell_type": "code",
   "execution_count": 6,
   "id": "80bb4a24",
   "metadata": {},
   "outputs": [
    {
     "data": {
      "text/plain": [
       "<Axes: xlabel='type', ylabel='count'>"
      ]
     },
     "execution_count": 6,
     "metadata": {},
     "output_type": "execute_result"
    },
    {
     "data": {
      "image/png": "[encoded data removed]",
      "text/plain": [
       "<Figure size 640x480 with 1 Axes>"
      ]
     },
     "metadata": {},
     "output_type": "display_data"
    }
   ],
   "source": [
    "sns.countplot(data=df,x='type')"
   ]
  },
  {
   "cell_type": "code",
   "execution_count": 7,
   "id": "f14b9739",
   "metadata": {},
   "outputs": [
    {
     "data": {
      "image/png": "[encoded data removed]",
      "text/plain": [
       "<Figure size 640x480 with 1 Axes>"
      ]
     },
     "metadata": {},
     "output_type": "display_data"
    },
    {
     "data": {
      "text/plain": [
       "<Figure size 640x480 with 0 Axes>"
      ]
     },
     "metadata": {},
     "output_type": "display_data"
    }
   ],
   "source": [
    "def pie_chart(df, column ,explode , labels,title,no):\n",
    "    \n",
    "    plt.pie(df[column].value_counts(),\n",
    "            explode=explode,    #explode=[0.04,0]\n",
    "            startangle=90, \n",
    "            autopct='%1.1f%%',\n",
    "            labels=labels, #labels=['Males','Females']\n",
    "            colors = ['#66b3ff','#99ff99'],\n",
    "            pctdistance=.6,\n",
    "            textprops={'fontsize': 20})\n",
    "    plt.title(title)\n",
    "    plt.figure(no)\n",
    "\n",
    "pie_chart(df, \"type\" ,[0.15,0.05], ['Movies',\"TV series\"],\"Movie and TV Shows count\",0)"
   ]
  },
  {
   "cell_type": "markdown",
   "id": "75220bdc",
   "metadata": {},
   "source": [
    "### Top ten directors of netflix users "
   ]
  },
  {
   "cell_type": "code",
   "execution_count": 8,
   "id": "9e9537f9",
   "metadata": {},
   "outputs": [
    {
     "data": {
      "image/png": "[encoded data removed]",
      "text/plain": [
       "<Figure size 640x480 with 1 Axes>"
      ]
     },
     "metadata": {},
     "output_type": "display_data"
    }
   ],
   "source": [
    "Top10_movies_directors = df[df['type'] == 'Movie']\n",
    "\n",
    "base_color = sns.color_palette()[1]\n",
    "\n",
    "sns.countplot(y = 'director',color= base_color, data = Top10_movies_directors, order = Top10_movies_directors.director.value_counts().head(10).index)\n",
    "\n",
    "plt.title(\"Top 10 Movie's Directors on Netflix\", fontsize = 20);"
   ]
  },
  {
   "cell_type": "markdown",
   "id": "fcc003f5",
   "metadata": {},
   "source": [
    "### Top ten series director"
   ]
  },
  {
   "cell_type": "code",
   "execution_count": 9,
   "id": "e04ebfd2",
   "metadata": {},
   "outputs": [
    {
     "data": {
      "image/png": "[encoded data removed]",
      "text/plain": [
       "<Figure size 640x480 with 1 Axes>"
      ]
     },
     "metadata": {},
     "output_type": "display_data"
    }
   ],
   "source": [
    "Top10_Series_directors = df[df['type'] == 'TV Show']\n",
    "\n",
    "base_color = sns.color_palette()[2]\n",
    "\n",
    "sns.countplot(y = 'director',color= base_color, data = Top10_Series_directors, order = Top10_Series_directors.director.value_counts().head(10).index)\n",
    "\n",
    "plt.title(\"Top 10 TV Show's Directors on Netflix\", fontsize = 20);"
   ]
  },
  {
   "cell_type": "markdown",
   "id": "11ee8b19",
   "metadata": {},
   "source": [
    "### Top ten countries with films on Netlfix "
   ]
  },
  {
   "cell_type": "code",
   "execution_count": 10,
   "id": "7120defa",
   "metadata": {},
   "outputs": [
    {
     "data": {
      "image/png": "[encoded data removed]",
      "text/plain": [
       "<Figure size 640x480 with 1 Axes>"
      ]
     },
     "metadata": {},
     "output_type": "display_data"
    }
   ],
   "source": [
    "base_color = sns.color_palette()[3]\n",
    "\n",
    "sns.countplot(y = 'country',color= base_color, data = df, order = df.country.value_counts().head(10).index)\n",
    "\n",
    "plt.title(\"Top 10 Countries in film Production on Netflix\", fontsize = 20);"
   ]
  },
  {
   "cell_type": "markdown",
   "id": "82b87dbb",
   "metadata": {},
   "source": [
    "For rating, date_added and country i'm not going to use them so i will just keep them like that\n",
    "\n",
    "As cast and country are important features when calculating the similarity between movies, i won't be able to fill them with a good information so, i will drop NaNs of them\n",
    "\n",
    "For director, if i dropped NaNs it will be a big loss of data so, i will fill it with Unknown"
   ]
  },
  {
   "cell_type": "code",
   "execution_count": 11,
   "id": "1808d713",
   "metadata": {},
   "outputs": [],
   "source": [
    "df= df.dropna(subset=['cast','country'], axis = 0)\n",
    "df['director'] = df['director'].fillna(\"Unknown\")\n",
    "df = df.reset_index( drop=True)"
   ]
  },
  {
   "cell_type": "code",
   "execution_count": 12,
   "id": "c7b335cd",
   "metadata": {},
   "outputs": [
    {
     "data": {
      "text/plain": [
       "show_id         0\n",
       "type            0\n",
       "title           0\n",
       "director        0\n",
       "cast            0\n",
       "country         0\n",
       "date_added      9\n",
       "release_year    0\n",
       "rating          3\n",
       "duration        3\n",
       "listed_in       0\n",
       "description     0\n",
       "dtype: int64"
      ]
     },
     "execution_count": 12,
     "metadata": {},
     "output_type": "execute_result"
    }
   ],
   "source": [
    "df.isnull().sum()"
   ]
  },
  {
   "cell_type": "markdown",
   "id": "1f4ee5af",
   "metadata": {},
   "source": [
    "### Here will combine all the info like type,cast,country ,description,title,director and then apply cosine similarity on top of it "
   ]
  },
  {
   "cell_type": "code",
   "execution_count": 13,
   "id": "deafce56",
   "metadata": {},
   "outputs": [],
   "source": [
    "overall_infos=[]\n",
    "\n",
    "for i in range(0,df.shape[0]):\n",
    "    overall_infos.append(df['type'][i]+' '+df['title'][i]+' '+df['director'][i]+' '+df['cast'][i]+' '+df['description'][i]+' '+df['country'][i])\n",
    "df['overall_infos']=overall_infos"
   ]
  },
  {
   "cell_type": "code",
   "execution_count": 14,
   "id": "da51a67a",
   "metadata": {},
   "outputs": [
    {
     "data": {
      "text/html": [
       "<div>\n",
       "<style scoped>\n",
       "    .dataframe tbody tr th:only-of-type {\n",
       "        vertical-align: middle;\n",
       "    }\n",
       "\n",
       "    .dataframe tbody tr th {\n",
       "        vertical-align: top;\n",
       "    }\n",
       "\n",
       "    .dataframe thead th {\n",
       "        text-align: right;\n",
       "    }\n",
       "</style>\n",
       "<table border=\"1\" class=\"dataframe\">\n",
       "  <thead>\n",
       "    <tr style=\"text-align: right;\">\n",
       "      <th></th>\n",
       "      <th>show_id</th>\n",
       "      <th>type</th>\n",
       "      <th>title</th>\n",
       "      <th>director</th>\n",
       "      <th>cast</th>\n",
       "      <th>country</th>\n",
       "      <th>date_added</th>\n",
       "      <th>release_year</th>\n",
       "      <th>rating</th>\n",
       "      <th>duration</th>\n",
       "      <th>listed_in</th>\n",
       "      <th>description</th>\n",
       "      <th>overall_infos</th>\n",
       "    </tr>\n",
       "  </thead>\n",
       "  <tbody>\n",
       "    <tr>\n",
       "      <th>0</th>\n",
       "      <td>s2</td>\n",
       "      <td>TV Show</td>\n",
       "      <td>Blood &amp; Water</td>\n",
       "      <td>Unknown</td>\n",
       "      <td>Ama Qamata, Khosi Ngema, Gail Mabalane, Thaban...</td>\n",
       "      <td>South Africa</td>\n",
       "      <td>September 24, 2021</td>\n",
       "      <td>2021</td>\n",
       "      <td>TV-MA</td>\n",
       "      <td>2 Seasons</td>\n",
       "      <td>International TV Shows, TV Dramas, TV Mysteries</td>\n",
       "      <td>After crossing paths at a party, a Cape Town t...</td>\n",
       "      <td>TV Show Blood &amp; Water Unknown Ama Qamata, Khos...</td>\n",
       "    </tr>\n",
       "  </tbody>\n",
       "</table>\n",
       "</div>"
      ],
      "text/plain": [
       "  show_id     type          title director  \\\n",
       "0      s2  TV Show  Blood & Water  Unknown   \n",
       "\n",
       "                                                cast       country  \\\n",
       "0  Ama Qamata, Khosi Ngema, Gail Mabalane, Thaban...  South Africa   \n",
       "\n",
       "           date_added  release_year rating   duration  \\\n",
       "0  September 24, 2021          2021  TV-MA  2 Seasons   \n",
       "\n",
       "                                         listed_in  \\\n",
       "0  International TV Shows, TV Dramas, TV Mysteries   \n",
       "\n",
       "                                         description  \\\n",
       "0  After crossing paths at a party, a Cape Town t...   \n",
       "\n",
       "                                       overall_infos  \n",
       "0  TV Show Blood & Water Unknown Ama Qamata, Khos...  "
      ]
     },
     "execution_count": 14,
     "metadata": {},
     "output_type": "execute_result"
    }
   ],
   "source": [
    "df.head(1)"
   ]
  },
  {
   "cell_type": "code",
   "execution_count": 15,
   "id": "e2d5ad2d",
   "metadata": {},
   "outputs": [
    {
     "data": {
      "text/plain": [
       "7305"
      ]
     },
     "execution_count": 15,
     "metadata": {},
     "output_type": "execute_result"
    }
   ],
   "source": [
    "df['show_id'].nunique()"
   ]
  },
  {
   "cell_type": "code",
   "execution_count": 16,
   "id": "c1fa37d8",
   "metadata": {},
   "outputs": [
    {
     "name": "stdout",
     "output_type": "stream",
     "text": [
      "<class 'pandas.core.frame.DataFrame'>\n",
      "RangeIndex: 7305 entries, 0 to 7304\n",
      "Data columns (total 13 columns):\n",
      " #   Column         Non-Null Count  Dtype \n",
      "---  ------         --------------  ----- \n",
      " 0   show_id        7305 non-null   object\n",
      " 1   type           7305 non-null   object\n",
      " 2   title          7305 non-null   object\n",
      " 3   director       7305 non-null   object\n",
      " 4   cast           7305 non-null   object\n",
      " 5   country        7305 non-null   object\n",
      " 6   date_added     7296 non-null   object\n",
      " 7   release_year   7305 non-null   int64 \n",
      " 8   rating         7302 non-null   object\n",
      " 9   duration       7302 non-null   object\n",
      " 10  listed_in      7305 non-null   object\n",
      " 11  description    7305 non-null   object\n",
      " 12  overall_infos  7305 non-null   object\n",
      "dtypes: int64(1), object(12)\n",
      "memory usage: 742.0+ KB\n"
     ]
    }
   ],
   "source": [
    "df.info()"
   ]
  },
  {
   "cell_type": "markdown",
   "id": "225520c3",
   "metadata": {},
   "source": [
    "### show_id is not consistent so we will create own id for consistency "
   ]
  },
  {
   "cell_type": "code",
   "execution_count": 17,
   "id": "66636a11",
   "metadata": {},
   "outputs": [],
   "source": [
    "df.insert(1, \"id\", list(range(1, 7306)), True)"
   ]
  },
  {
   "cell_type": "code",
   "execution_count": 18,
   "id": "6487b075",
   "metadata": {},
   "outputs": [
    {
     "data": {
      "text/html": [
       "<div>\n",
       "<style scoped>\n",
       "    .dataframe tbody tr th:only-of-type {\n",
       "        vertical-align: middle;\n",
       "    }\n",
       "\n",
       "    .dataframe tbody tr th {\n",
       "        vertical-align: top;\n",
       "    }\n",
       "\n",
       "    .dataframe thead th {\n",
       "        text-align: right;\n",
       "    }\n",
       "</style>\n",
       "<table border=\"1\" class=\"dataframe\">\n",
       "  <thead>\n",
       "    <tr style=\"text-align: right;\">\n",
       "      <th></th>\n",
       "      <th>show_id</th>\n",
       "      <th>id</th>\n",
       "      <th>type</th>\n",
       "      <th>title</th>\n",
       "      <th>director</th>\n",
       "      <th>cast</th>\n",
       "      <th>country</th>\n",
       "      <th>date_added</th>\n",
       "      <th>release_year</th>\n",
       "      <th>rating</th>\n",
       "      <th>duration</th>\n",
       "      <th>listed_in</th>\n",
       "      <th>description</th>\n",
       "      <th>overall_infos</th>\n",
       "    </tr>\n",
       "  </thead>\n",
       "  <tbody>\n",
       "    <tr>\n",
       "      <th>0</th>\n",
       "      <td>s2</td>\n",
       "      <td>1</td>\n",
       "      <td>TV Show</td>\n",
       "      <td>Blood &amp; Water</td>\n",
       "      <td>Unknown</td>\n",
       "      <td>Ama Qamata, Khosi Ngema, Gail Mabalane, Thaban...</td>\n",
       "      <td>South Africa</td>\n",
       "      <td>September 24, 2021</td>\n",
       "      <td>2021</td>\n",
       "      <td>TV-MA</td>\n",
       "      <td>2 Seasons</td>\n",
       "      <td>International TV Shows, TV Dramas, TV Mysteries</td>\n",
       "      <td>After crossing paths at a party, a Cape Town t...</td>\n",
       "      <td>TV Show Blood &amp; Water Unknown Ama Qamata, Khos...</td>\n",
       "    </tr>\n",
       "    <tr>\n",
       "      <th>1</th>\n",
       "      <td>s5</td>\n",
       "      <td>2</td>\n",
       "      <td>TV Show</td>\n",
       "      <td>Kota Factory</td>\n",
       "      <td>Unknown</td>\n",
       "      <td>Mayur More, Jitendra Kumar, Ranjan Raj, Alam K...</td>\n",
       "      <td>India</td>\n",
       "      <td>September 24, 2021</td>\n",
       "      <td>2021</td>\n",
       "      <td>TV-MA</td>\n",
       "      <td>2 Seasons</td>\n",
       "      <td>International TV Shows, Romantic TV Shows, TV ...</td>\n",
       "      <td>In a city of coaching centers known to train I...</td>\n",
       "      <td>TV Show Kota Factory Unknown Mayur More, Jiten...</td>\n",
       "    </tr>\n",
       "  </tbody>\n",
       "</table>\n",
       "</div>"
      ],
      "text/plain": [
       "  show_id  id     type          title director  \\\n",
       "0      s2   1  TV Show  Blood & Water  Unknown   \n",
       "1      s5   2  TV Show   Kota Factory  Unknown   \n",
       "\n",
       "                                                cast       country  \\\n",
       "0  Ama Qamata, Khosi Ngema, Gail Mabalane, Thaban...  South Africa   \n",
       "1  Mayur More, Jitendra Kumar, Ranjan Raj, Alam K...         India   \n",
       "\n",
       "           date_added  release_year rating   duration  \\\n",
       "0  September 24, 2021          2021  TV-MA  2 Seasons   \n",
       "1  September 24, 2021          2021  TV-MA  2 Seasons   \n",
       "\n",
       "                                           listed_in  \\\n",
       "0    International TV Shows, TV Dramas, TV Mysteries   \n",
       "1  International TV Shows, Romantic TV Shows, TV ...   \n",
       "\n",
       "                                         description  \\\n",
       "0  After crossing paths at a party, a Cape Town t...   \n",
       "1  In a city of coaching centers known to train I...   \n",
       "\n",
       "                                       overall_infos  \n",
       "0  TV Show Blood & Water Unknown Ama Qamata, Khos...  \n",
       "1  TV Show Kota Factory Unknown Mayur More, Jiten...  "
      ]
     },
     "execution_count": 18,
     "metadata": {},
     "output_type": "execute_result"
    }
   ],
   "source": [
    "df.head(2)"
   ]
  },
  {
   "cell_type": "code",
   "execution_count": 19,
   "id": "9c32d0cc",
   "metadata": {},
   "outputs": [],
   "source": [
    "df_final=df[['id','overall_infos']]"
   ]
  },
  {
   "cell_type": "code",
   "execution_count": 20,
   "id": "ba3c7023",
   "metadata": {},
   "outputs": [
    {
     "data": {
      "text/html": [
       "<div>\n",
       "<style scoped>\n",
       "    .dataframe tbody tr th:only-of-type {\n",
       "        vertical-align: middle;\n",
       "    }\n",
       "\n",
       "    .dataframe tbody tr th {\n",
       "        vertical-align: top;\n",
       "    }\n",
       "\n",
       "    .dataframe thead th {\n",
       "        text-align: right;\n",
       "    }\n",
       "</style>\n",
       "<table border=\"1\" class=\"dataframe\">\n",
       "  <thead>\n",
       "    <tr style=\"text-align: right;\">\n",
       "      <th></th>\n",
       "      <th>id</th>\n",
       "      <th>overall_infos</th>\n",
       "    </tr>\n",
       "  </thead>\n",
       "  <tbody>\n",
       "    <tr>\n",
       "      <th>0</th>\n",
       "      <td>1</td>\n",
       "      <td>TV Show Blood &amp; Water Unknown Ama Qamata, Khos...</td>\n",
       "    </tr>\n",
       "    <tr>\n",
       "      <th>1</th>\n",
       "      <td>2</td>\n",
       "      <td>TV Show Kota Factory Unknown Mayur More, Jiten...</td>\n",
       "    </tr>\n",
       "    <tr>\n",
       "      <th>2</th>\n",
       "      <td>3</td>\n",
       "      <td>Movie Sankofa Haile Gerima Kofi Ghanaba, Oyafu...</td>\n",
       "    </tr>\n",
       "    <tr>\n",
       "      <th>3</th>\n",
       "      <td>4</td>\n",
       "      <td>TV Show The Great British Baking Show Andy Dev...</td>\n",
       "    </tr>\n",
       "    <tr>\n",
       "      <th>4</th>\n",
       "      <td>5</td>\n",
       "      <td>Movie The Starling Theodore Melfi Melissa McCa...</td>\n",
       "    </tr>\n",
       "  </tbody>\n",
       "</table>\n",
       "</div>"
      ],
      "text/plain": [
       "   id                                      overall_infos\n",
       "0   1  TV Show Blood & Water Unknown Ama Qamata, Khos...\n",
       "1   2  TV Show Kota Factory Unknown Mayur More, Jiten...\n",
       "2   3  Movie Sankofa Haile Gerima Kofi Ghanaba, Oyafu...\n",
       "3   4  TV Show The Great British Baking Show Andy Dev...\n",
       "4   5  Movie The Starling Theodore Melfi Melissa McCa..."
      ]
     },
     "execution_count": 20,
     "metadata": {},
     "output_type": "execute_result"
    }
   ],
   "source": [
    "df_final.head()"
   ]
  },
  {
   "cell_type": "markdown",
   "id": "4c46e8f8",
   "metadata": {},
   "source": [
    "### Text Processing "
   ]
  },
  {
   "cell_type": "code",
   "execution_count": 21,
   "id": "53ac566e",
   "metadata": {},
   "outputs": [],
   "source": [
    "import nltk\n",
    "from nltk.tokenize import word_tokenize \n",
    "from nltk.stem import WordNetLemmatizer"
   ]
  },
  {
   "cell_type": "code",
   "execution_count": 22,
   "id": "69f161b7",
   "metadata": {},
   "outputs": [],
   "source": [
    "#Stopwords help us to get rid of unwanted words like: a, an, are, is, ...\n",
    "from nltk.corpus import stopwords\n",
    "stop = stopwords.words('english')\n",
    "lemmatizer = WordNetLemmatizer()"
   ]
  },
  {
   "cell_type": "code",
   "execution_count": 23,
   "id": "6a37a73e",
   "metadata": {},
   "outputs": [],
   "source": [
    "def text_preprocessing(column):\n",
    "    #make all words with lower letters\n",
    "    column = column.str.lower()\n",
    "    #getting rid of any punctution\n",
    "    column = column.str.replace('http\\S+|www.\\S+|@|%|:|,|', '', case=False)\n",
    "    #spliting each sentence to words to apply previous funtions on them \n",
    "    word_tokens = column.str.split()\n",
    "    keywords = word_tokens.apply(lambda x: [item for item in x if item not in stop])\n",
    "    #assemble words of each sentence again and assign them in new column\n",
    "    for i in range(len(keywords)):\n",
    "        keywords[i] = \" \".join(keywords[i])\n",
    "        column = keywords\n",
    "\n",
    "    return column"
   ]
  },
  {
   "cell_type": "code",
   "execution_count": 24,
   "id": "bae75293",
   "metadata": {},
   "outputs": [
    {
     "name": "stderr",
     "output_type": "stream",
     "text": [
      "C:\\Users\\abhisuma.ORADEV\\AppData\\Local\\Temp\\ipykernel_13328\\3812408918.py:5: FutureWarning: The default value of regex will change from True to False in a future version.\n",
      "  column = column.str.replace('http\\S+|www.\\S+|@|%|:|,|', '', case=False)\n",
      "C:\\Users\\abhisuma.ORADEV\\AppData\\Local\\Temp\\ipykernel_13328\\1100285566.py:1: SettingWithCopyWarning: \n",
      "A value is trying to be set on a copy of a slice from a DataFrame.\n",
      "Try using .loc[row_indexer,col_indexer] = value instead\n",
      "\n",
      "See the caveats in the documentation: https://pandas.pydata.org/pandas-docs/stable/user_guide/indexing.html#returning-a-view-versus-a-copy\n",
      "  df_final['cleaned_infos'] = text_preprocessing(df_final['overall_infos'])\n"
     ]
    }
   ],
   "source": [
    "df_final['cleaned_infos'] = text_preprocessing(df_final['overall_infos'])"
   ]
  },
  {
   "cell_type": "code",
   "execution_count": 25,
   "id": "bd6d4be9",
   "metadata": {},
   "outputs": [
    {
     "data": {
      "text/html": [
       "<div>\n",
       "<style scoped>\n",
       "    .dataframe tbody tr th:only-of-type {\n",
       "        vertical-align: middle;\n",
       "    }\n",
       "\n",
       "    .dataframe tbody tr th {\n",
       "        vertical-align: top;\n",
       "    }\n",
       "\n",
       "    .dataframe thead th {\n",
       "        text-align: right;\n",
       "    }\n",
       "</style>\n",
       "<table border=\"1\" class=\"dataframe\">\n",
       "  <thead>\n",
       "    <tr style=\"text-align: right;\">\n",
       "      <th></th>\n",
       "      <th>id</th>\n",
       "      <th>overall_infos</th>\n",
       "      <th>cleaned_infos</th>\n",
       "    </tr>\n",
       "  </thead>\n",
       "  <tbody>\n",
       "    <tr>\n",
       "      <th>0</th>\n",
       "      <td>1</td>\n",
       "      <td>TV Show Blood &amp; Water Unknown Ama Qamata, Khos...</td>\n",
       "      <td>tv show blood &amp; water unknown ama qamata khosi...</td>\n",
       "    </tr>\n",
       "  </tbody>\n",
       "</table>\n",
       "</div>"
      ],
      "text/plain": [
       "   id                                      overall_infos  \\\n",
       "0   1  TV Show Blood & Water Unknown Ama Qamata, Khos...   \n",
       "\n",
       "                                       cleaned_infos  \n",
       "0  tv show blood & water unknown ama qamata khosi...  "
      ]
     },
     "execution_count": 25,
     "metadata": {},
     "output_type": "execute_result"
    }
   ],
   "source": [
    "df_final.head(1)"
   ]
  },
  {
   "cell_type": "code",
   "execution_count": 26,
   "id": "c17acfcc",
   "metadata": {},
   "outputs": [
    {
     "data": {
      "text/plain": [
       "'TV Show Dear White People Unknown Logan Browning, Brandon P. Bell, DeRon Horton, Antoinette Robertson, John Patrick Amedori, Ashley Blaine Featherson, Marque Richardson, Giancarlo Esposito Students of color navigate the daily slights and slippery politics of life at an Ivy League college that\\'s not nearly as \"post-racial\" as it thinks. United States'"
      ]
     },
     "execution_count": 26,
     "metadata": {},
     "output_type": "execute_result"
    }
   ],
   "source": [
    "df_final['overall_infos'][6]"
   ]
  },
  {
   "cell_type": "code",
   "execution_count": 27,
   "id": "e16361bb",
   "metadata": {},
   "outputs": [
    {
     "data": {
      "text/plain": [
       "'tv show dear white people unknown logan browning brandon p. bell deron horton antoinette robertson john patrick amedori ashley blaine featherson marque richardson giancarlo esposito students color navigate daily slights slippery politics life ivy league college that\\'s nearly \"post-racial\" thinks. united states'"
      ]
     },
     "execution_count": 27,
     "metadata": {},
     "output_type": "execute_result"
    }
   ],
   "source": [
    "df_final['cleaned_infos'][6]"
   ]
  },
  {
   "cell_type": "code",
   "execution_count": 28,
   "id": "bc46cf69",
   "metadata": {},
   "outputs": [],
   "source": [
    "from sklearn.feature_extraction.text import CountVectorizer,TfidfVectorizer\n",
    "from sklearn.metrics.pairwise import cosine_similarity\n"
   ]
  },
  {
   "cell_type": "markdown",
   "id": "12da2aa7",
   "metadata": {},
   "source": [
    "### 1. Applying count vectorizer "
   ]
  },
  {
   "cell_type": "code",
   "execution_count": 29,
   "id": "e3e3e6d1",
   "metadata": {},
   "outputs": [],
   "source": [
    "###Applying count vectorizer\n",
    "CV = CountVectorizer()\n",
    "converted_metrix = CV.fit_transform(df_final['cleaned_infos'])"
   ]
  },
  {
   "cell_type": "code",
   "execution_count": 30,
   "id": "5bc005db",
   "metadata": {},
   "outputs": [],
   "source": [
    "cosine_similarity = cosine_similarity(converted_metrix)"
   ]
  },
  {
   "cell_type": "code",
   "execution_count": 31,
   "id": "1810a2e9",
   "metadata": {},
   "outputs": [
    {
     "data": {
      "text/plain": [
       "array([[1.        , 0.05856516, 0.        , ..., 0.        , 0.        ,\n",
       "        0.        ],\n",
       "       [0.05856516, 1.        , 0.        , ..., 0.02678358, 0.04938648,\n",
       "        0.07919455],\n",
       "       [0.        , 0.        , 1.        , ..., 0.10006256, 0.09225312,\n",
       "        0.04931137],\n",
       "       ...,\n",
       "       [0.        , 0.02678358, 0.10006256, ..., 1.        , 0.10846523,\n",
       "        0.02898855],\n",
       "       [0.        , 0.04938648, 0.09225312, ..., 0.10846523, 1.        ,\n",
       "        0.02672612],\n",
       "       [0.        , 0.07919455, 0.04931137, ..., 0.02898855, 0.02672612,\n",
       "        1.        ]])"
      ]
     },
     "execution_count": 31,
     "metadata": {},
     "output_type": "execute_result"
    }
   ],
   "source": [
    "cosine_similarity"
   ]
  },
  {
   "cell_type": "markdown",
   "id": "56f94da5",
   "metadata": {},
   "source": [
    "### Testing "
   ]
  },
  {
   "cell_type": "code",
   "execution_count": 32,
   "id": "730d1f1e",
   "metadata": {},
   "outputs": [
    {
     "data": {
      "text/html": [
       "<div>\n",
       "<style scoped>\n",
       "    .dataframe tbody tr th:only-of-type {\n",
       "        vertical-align: middle;\n",
       "    }\n",
       "\n",
       "    .dataframe tbody tr th {\n",
       "        vertical-align: top;\n",
       "    }\n",
       "\n",
       "    .dataframe thead th {\n",
       "        text-align: right;\n",
       "    }\n",
       "</style>\n",
       "<table border=\"1\" class=\"dataframe\">\n",
       "  <thead>\n",
       "    <tr style=\"text-align: right;\">\n",
       "      <th></th>\n",
       "      <th>show_id</th>\n",
       "      <th>id</th>\n",
       "      <th>type</th>\n",
       "      <th>title</th>\n",
       "      <th>director</th>\n",
       "      <th>cast</th>\n",
       "      <th>country</th>\n",
       "      <th>date_added</th>\n",
       "      <th>release_year</th>\n",
       "      <th>rating</th>\n",
       "      <th>duration</th>\n",
       "      <th>listed_in</th>\n",
       "      <th>description</th>\n",
       "      <th>overall_infos</th>\n",
       "    </tr>\n",
       "  </thead>\n",
       "  <tbody>\n",
       "    <tr>\n",
       "      <th>39</th>\n",
       "      <td>s64</td>\n",
       "      <td>40</td>\n",
       "      <td>Movie</td>\n",
       "      <td>Naruto the Movie: Ninja Clash in the Land of Snow</td>\n",
       "      <td>Tensai Okamura</td>\n",
       "      <td>Junko Takeuchi, Noriaki Sugiyama, Chie Nakamur...</td>\n",
       "      <td>Japan</td>\n",
       "      <td>September 15, 2021</td>\n",
       "      <td>2004</td>\n",
       "      <td>TV-PG</td>\n",
       "      <td>83 min</td>\n",
       "      <td>Action &amp; Adventure, Anime Features, Internatio...</td>\n",
       "      <td>Naruto, Sasuke and Sakura learn they'll be pro...</td>\n",
       "      <td>Movie Naruto the Movie: Ninja Clash in the Lan...</td>\n",
       "    </tr>\n",
       "    <tr>\n",
       "      <th>512</th>\n",
       "      <td>s803</td>\n",
       "      <td>513</td>\n",
       "      <td>Movie</td>\n",
       "      <td>Ninja Assassin</td>\n",
       "      <td>James McTeigue</td>\n",
       "      <td>Rain, Naomie Harris, Ben Miles, Rick Yune, Shô...</td>\n",
       "      <td>Germany, United States, France</td>\n",
       "      <td>June 2, 2021</td>\n",
       "      <td>2009</td>\n",
       "      <td>R</td>\n",
       "      <td>99 min</td>\n",
       "      <td>Action &amp; Adventure</td>\n",
       "      <td>A former assassin must protect himself and a E...</td>\n",
       "      <td>Movie Ninja Assassin James McTeigue Rain, Naom...</td>\n",
       "    </tr>\n",
       "    <tr>\n",
       "      <th>926</th>\n",
       "      <td>s1351</td>\n",
       "      <td>927</td>\n",
       "      <td>TV Show</td>\n",
       "      <td>Power Rangers Ninja Steel</td>\n",
       "      <td>Unknown</td>\n",
       "      <td>William Shewfelt, Nico Greetham, Zoe Robins, P...</td>\n",
       "      <td>United States</td>\n",
       "      <td>February 3, 2021</td>\n",
       "      <td>2018</td>\n",
       "      <td>TV-Y7</td>\n",
       "      <td>2 Seasons</td>\n",
       "      <td>Kids' TV</td>\n",
       "      <td>A new generation of teen heroes uses superhuma...</td>\n",
       "      <td>TV Show Power Rangers Ninja Steel Unknown Will...</td>\n",
       "    </tr>\n",
       "    <tr>\n",
       "      <th>929</th>\n",
       "      <td>s1354</td>\n",
       "      <td>930</td>\n",
       "      <td>Movie</td>\n",
       "      <td>Beverly Hills Ninja</td>\n",
       "      <td>Dennis Dugan</td>\n",
       "      <td>Chris Farley, Nicollette Sheridan, Robin Shou,...</td>\n",
       "      <td>United States</td>\n",
       "      <td>February 1, 2021</td>\n",
       "      <td>1997</td>\n",
       "      <td>PG-13</td>\n",
       "      <td>89 min</td>\n",
       "      <td>Action &amp; Adventure, Comedies</td>\n",
       "      <td>Raised by ninjas, a big-hearted but bumbling o...</td>\n",
       "      <td>Movie Beverly Hills Ninja Dennis Dugan Chris F...</td>\n",
       "    </tr>\n",
       "    <tr>\n",
       "      <th>965</th>\n",
       "      <td>s1396</td>\n",
       "      <td>966</td>\n",
       "      <td>TV Show</td>\n",
       "      <td>Hello Ninja</td>\n",
       "      <td>Unknown</td>\n",
       "      <td>Lukas Engel, Zoey Siewert, Sam Vincent, Mayumi...</td>\n",
       "      <td>United States</td>\n",
       "      <td>January 19, 2021</td>\n",
       "      <td>2021</td>\n",
       "      <td>TV-Y</td>\n",
       "      <td>4 Seasons</td>\n",
       "      <td>Kids' TV</td>\n",
       "      <td>BFFs Wesley and Georgie and their silly cat si...</td>\n",
       "      <td>TV Show Hello Ninja Unknown Lukas Engel, Zoey ...</td>\n",
       "    </tr>\n",
       "    <tr>\n",
       "      <th>1276</th>\n",
       "      <td>s1759</td>\n",
       "      <td>1277</td>\n",
       "      <td>TV Show</td>\n",
       "      <td>LEGO Ninjago</td>\n",
       "      <td>Unknown</td>\n",
       "      <td>Michael Adamthwaite, Paul Dobson, Kelly Metzge...</td>\n",
       "      <td>Canada</td>\n",
       "      <td>November 1, 2020</td>\n",
       "      <td>2020</td>\n",
       "      <td>TV-Y7</td>\n",
       "      <td>2 Seasons</td>\n",
       "      <td>Kids' TV</td>\n",
       "      <td>While fighting foes across Ninjago City and be...</td>\n",
       "      <td>TV Show LEGO Ninjago Unknown Michael Adamthwai...</td>\n",
       "    </tr>\n",
       "    <tr>\n",
       "      <th>1277</th>\n",
       "      <td>s1760</td>\n",
       "      <td>1278</td>\n",
       "      <td>TV Show</td>\n",
       "      <td>LEGO Ninjago: Masters of Spinjitzu</td>\n",
       "      <td>Unknown</td>\n",
       "      <td>Vincent Tong, Jillian Michaels, Ian James Corl...</td>\n",
       "      <td>Denmark, Singapore, Canada, United States</td>\n",
       "      <td>November 1, 2020</td>\n",
       "      <td>2019</td>\n",
       "      <td>TV-Y7</td>\n",
       "      <td>10 Seasons</td>\n",
       "      <td>Kids' TV</td>\n",
       "      <td>Kai, Jay, Cole and Zane must master their elem...</td>\n",
       "      <td>TV Show LEGO Ninjago: Masters of Spinjitzu Unk...</td>\n",
       "    </tr>\n",
       "    <tr>\n",
       "      <th>5553</th>\n",
       "      <td>s6766</td>\n",
       "      <td>5554</td>\n",
       "      <td>Movie</td>\n",
       "      <td>Five Elements Ninjas</td>\n",
       "      <td>Cheh Chang</td>\n",
       "      <td>Tien-chi Cheng, Tien Hsiang Lung, Meng Lo, Mic...</td>\n",
       "      <td>Hong Kong</td>\n",
       "      <td>September 17, 2019</td>\n",
       "      <td>1982</td>\n",
       "      <td>R</td>\n",
       "      <td>104 min</td>\n",
       "      <td>Action &amp; Adventure, International Movies</td>\n",
       "      <td>When five ninjas whose fighting styles are bas...</td>\n",
       "      <td>Movie Five Elements Ninjas Cheh Chang Tien-chi...</td>\n",
       "    </tr>\n",
       "    <tr>\n",
       "      <th>6253</th>\n",
       "      <td>s7589</td>\n",
       "      <td>6254</td>\n",
       "      <td>TV Show</td>\n",
       "      <td>Ninja Hattori</td>\n",
       "      <td>Unknown</td>\n",
       "      <td>Junko Hori, Masako Sugaya, Yuko Mita, Kaneta K...</td>\n",
       "      <td>Japan</td>\n",
       "      <td>December 23, 2018</td>\n",
       "      <td>1981</td>\n",
       "      <td>TV-Y7</td>\n",
       "      <td>1 Season</td>\n",
       "      <td>Anime Series, Kids' TV</td>\n",
       "      <td>Elementary school student Kenichi Mitsuba's ho...</td>\n",
       "      <td>TV Show Ninja Hattori Unknown Junko Hori, Masa...</td>\n",
       "    </tr>\n",
       "    <tr>\n",
       "      <th>6254</th>\n",
       "      <td>s7590</td>\n",
       "      <td>6255</td>\n",
       "      <td>TV Show</td>\n",
       "      <td>Ninja Turtles: The Next Mutation</td>\n",
       "      <td>Unknown</td>\n",
       "      <td>Jarred Blancard, Mitchell A. Lee Yuen, Dean Ch...</td>\n",
       "      <td>Canada, United States</td>\n",
       "      <td>January 1, 2016</td>\n",
       "      <td>1997</td>\n",
       "      <td>TV-G</td>\n",
       "      <td>1 Season</td>\n",
       "      <td>Kids' TV, TV Comedies</td>\n",
       "      <td>Everyone's favorite teenage mutants are back i...</td>\n",
       "      <td>TV Show Ninja Turtles: The Next Mutation Unkno...</td>\n",
       "    </tr>\n",
       "    <tr>\n",
       "      <th>6407</th>\n",
       "      <td>s7770</td>\n",
       "      <td>6408</td>\n",
       "      <td>TV Show</td>\n",
       "      <td>Power Rangers Ninja Storm</td>\n",
       "      <td>Unknown</td>\n",
       "      <td>Pua Magasiva, Sally Martin, Glenn McMillan, Ad...</td>\n",
       "      <td>United States, New Zealand</td>\n",
       "      <td>January 1, 2016</td>\n",
       "      <td>2003</td>\n",
       "      <td>TV-Y7</td>\n",
       "      <td>1 Season</td>\n",
       "      <td>Kids' TV</td>\n",
       "      <td>When the elite warriors from the Wind Ninja Ac...</td>\n",
       "      <td>TV Show Power Rangers Ninja Storm Unknown Pua ...</td>\n",
       "    </tr>\n",
       "    <tr>\n",
       "      <th>6757</th>\n",
       "      <td>s8159</td>\n",
       "      <td>6758</td>\n",
       "      <td>Movie</td>\n",
       "      <td>Teenage Mutant Ninja Turtles</td>\n",
       "      <td>Kevin Munroe</td>\n",
       "      <td>Chris Evans, Sarah Michelle Gellar, Mako Iwama...</td>\n",
       "      <td>Hong Kong, United States</td>\n",
       "      <td>May 1, 2019</td>\n",
       "      <td>2007</td>\n",
       "      <td>PG</td>\n",
       "      <td>87 min</td>\n",
       "      <td>Children &amp; Family Movies, Comedies</td>\n",
       "      <td>In this animated adventure, Master Splinter wh...</td>\n",
       "      <td>Movie Teenage Mutant Ninja Turtles Kevin Munro...</td>\n",
       "    </tr>\n",
       "    <tr>\n",
       "      <th>6758</th>\n",
       "      <td>s8160</td>\n",
       "      <td>6759</td>\n",
       "      <td>Movie</td>\n",
       "      <td>Teenage Mutant Ninja Turtles II: The Secret of...</td>\n",
       "      <td>Michael Pressman</td>\n",
       "      <td>Paige Turco, David Warner, Mark Caso, Michelan...</td>\n",
       "      <td>United States, Hong Kong</td>\n",
       "      <td>January 1, 2020</td>\n",
       "      <td>1991</td>\n",
       "      <td>PG</td>\n",
       "      <td>88 min</td>\n",
       "      <td>Children &amp; Family Movies, Comedies</td>\n",
       "      <td>The evil Shredder decides that ooze is what gi...</td>\n",
       "      <td>Movie Teenage Mutant Ninja Turtles II: The Sec...</td>\n",
       "    </tr>\n",
       "  </tbody>\n",
       "</table>\n",
       "</div>"
      ],
      "text/plain": [
       "     show_id    id     type  \\\n",
       "39       s64    40    Movie   \n",
       "512     s803   513    Movie   \n",
       "926    s1351   927  TV Show   \n",
       "929    s1354   930    Movie   \n",
       "965    s1396   966  TV Show   \n",
       "1276   s1759  1277  TV Show   \n",
       "1277   s1760  1278  TV Show   \n",
       "5553   s6766  5554    Movie   \n",
       "6253   s7589  6254  TV Show   \n",
       "6254   s7590  6255  TV Show   \n",
       "6407   s7770  6408  TV Show   \n",
       "6757   s8159  6758    Movie   \n",
       "6758   s8160  6759    Movie   \n",
       "\n",
       "                                                  title          director  \\\n",
       "39    Naruto the Movie: Ninja Clash in the Land of Snow    Tensai Okamura   \n",
       "512                                      Ninja Assassin    James McTeigue   \n",
       "926                           Power Rangers Ninja Steel           Unknown   \n",
       "929                                 Beverly Hills Ninja      Dennis Dugan   \n",
       "965                                         Hello Ninja           Unknown   \n",
       "1276                                       LEGO Ninjago           Unknown   \n",
       "1277                 LEGO Ninjago: Masters of Spinjitzu           Unknown   \n",
       "5553                               Five Elements Ninjas        Cheh Chang   \n",
       "6253                                      Ninja Hattori           Unknown   \n",
       "6254                   Ninja Turtles: The Next Mutation           Unknown   \n",
       "6407                          Power Rangers Ninja Storm           Unknown   \n",
       "6757                       Teenage Mutant Ninja Turtles      Kevin Munroe   \n",
       "6758  Teenage Mutant Ninja Turtles II: The Secret of...  Michael Pressman   \n",
       "\n",
       "                                                   cast  \\\n",
       "39    Junko Takeuchi, Noriaki Sugiyama, Chie Nakamur...   \n",
       "512   Rain, Naomie Harris, Ben Miles, Rick Yune, Shô...   \n",
       "926   William Shewfelt, Nico Greetham, Zoe Robins, P...   \n",
       "929   Chris Farley, Nicollette Sheridan, Robin Shou,...   \n",
       "965   Lukas Engel, Zoey Siewert, Sam Vincent, Mayumi...   \n",
       "1276  Michael Adamthwaite, Paul Dobson, Kelly Metzge...   \n",
       "1277  Vincent Tong, Jillian Michaels, Ian James Corl...   \n",
       "5553  Tien-chi Cheng, Tien Hsiang Lung, Meng Lo, Mic...   \n",
       "6253  Junko Hori, Masako Sugaya, Yuko Mita, Kaneta K...   \n",
       "6254  Jarred Blancard, Mitchell A. Lee Yuen, Dean Ch...   \n",
       "6407  Pua Magasiva, Sally Martin, Glenn McMillan, Ad...   \n",
       "6757  Chris Evans, Sarah Michelle Gellar, Mako Iwama...   \n",
       "6758  Paige Turco, David Warner, Mark Caso, Michelan...   \n",
       "\n",
       "                                        country          date_added  \\\n",
       "39                                        Japan  September 15, 2021   \n",
       "512              Germany, United States, France        June 2, 2021   \n",
       "926                               United States    February 3, 2021   \n",
       "929                               United States    February 1, 2021   \n",
       "965                               United States    January 19, 2021   \n",
       "1276                                     Canada    November 1, 2020   \n",
       "1277  Denmark, Singapore, Canada, United States    November 1, 2020   \n",
       "5553                                  Hong Kong  September 17, 2019   \n",
       "6253                                      Japan   December 23, 2018   \n",
       "6254                      Canada, United States     January 1, 2016   \n",
       "6407                 United States, New Zealand     January 1, 2016   \n",
       "6757                   Hong Kong, United States         May 1, 2019   \n",
       "6758                   United States, Hong Kong     January 1, 2020   \n",
       "\n",
       "      release_year rating    duration  \\\n",
       "39            2004  TV-PG      83 min   \n",
       "512           2009      R      99 min   \n",
       "926           2018  TV-Y7   2 Seasons   \n",
       "929           1997  PG-13      89 min   \n",
       "965           2021   TV-Y   4 Seasons   \n",
       "1276          2020  TV-Y7   2 Seasons   \n",
       "1277          2019  TV-Y7  10 Seasons   \n",
       "5553          1982      R     104 min   \n",
       "6253          1981  TV-Y7    1 Season   \n",
       "6254          1997   TV-G    1 Season   \n",
       "6407          2003  TV-Y7    1 Season   \n",
       "6757          2007     PG      87 min   \n",
       "6758          1991     PG      88 min   \n",
       "\n",
       "                                              listed_in  \\\n",
       "39    Action & Adventure, Anime Features, Internatio...   \n",
       "512                                  Action & Adventure   \n",
       "926                                            Kids' TV   \n",
       "929                        Action & Adventure, Comedies   \n",
       "965                                            Kids' TV   \n",
       "1276                                           Kids' TV   \n",
       "1277                                           Kids' TV   \n",
       "5553           Action & Adventure, International Movies   \n",
       "6253                             Anime Series, Kids' TV   \n",
       "6254                              Kids' TV, TV Comedies   \n",
       "6407                                           Kids' TV   \n",
       "6757                 Children & Family Movies, Comedies   \n",
       "6758                 Children & Family Movies, Comedies   \n",
       "\n",
       "                                            description  \\\n",
       "39    Naruto, Sasuke and Sakura learn they'll be pro...   \n",
       "512   A former assassin must protect himself and a E...   \n",
       "926   A new generation of teen heroes uses superhuma...   \n",
       "929   Raised by ninjas, a big-hearted but bumbling o...   \n",
       "965   BFFs Wesley and Georgie and their silly cat si...   \n",
       "1276  While fighting foes across Ninjago City and be...   \n",
       "1277  Kai, Jay, Cole and Zane must master their elem...   \n",
       "5553  When five ninjas whose fighting styles are bas...   \n",
       "6253  Elementary school student Kenichi Mitsuba's ho...   \n",
       "6254  Everyone's favorite teenage mutants are back i...   \n",
       "6407  When the elite warriors from the Wind Ninja Ac...   \n",
       "6757  In this animated adventure, Master Splinter wh...   \n",
       "6758  The evil Shredder decides that ooze is what gi...   \n",
       "\n",
       "                                          overall_infos  \n",
       "39    Movie Naruto the Movie: Ninja Clash in the Lan...  \n",
       "512   Movie Ninja Assassin James McTeigue Rain, Naom...  \n",
       "926   TV Show Power Rangers Ninja Steel Unknown Will...  \n",
       "929   Movie Beverly Hills Ninja Dennis Dugan Chris F...  \n",
       "965   TV Show Hello Ninja Unknown Lukas Engel, Zoey ...  \n",
       "1276  TV Show LEGO Ninjago Unknown Michael Adamthwai...  \n",
       "1277  TV Show LEGO Ninjago: Masters of Spinjitzu Unk...  \n",
       "5553  Movie Five Elements Ninjas Cheh Chang Tien-chi...  \n",
       "6253  TV Show Ninja Hattori Unknown Junko Hori, Masa...  \n",
       "6254  TV Show Ninja Turtles: The Next Mutation Unkno...  \n",
       "6407  TV Show Power Rangers Ninja Storm Unknown Pua ...  \n",
       "6757  Movie Teenage Mutant Ninja Turtles Kevin Munro...  \n",
       "6758  Movie Teenage Mutant Ninja Turtles II: The Sec...  "
      ]
     },
     "execution_count": 32,
     "metadata": {},
     "output_type": "execute_result"
    }
   ],
   "source": [
    "#finding the correct name of a movie\n",
    "df[df['title'].str.contains('Ninja')]"
   ]
  },
  {
   "cell_type": "code",
   "execution_count": 33,
   "id": "6e466468",
   "metadata": {},
   "outputs": [],
   "source": [
    "#this how we will get the id of the movie so we can check similarity between it and other movies\n",
    "title = 'Teenage Mutant Ninja Turtles'\n",
    "\n",
    "movie_id = df[df['title'] == title]['id'].values[0]"
   ]
  },
  {
   "cell_type": "code",
   "execution_count": 34,
   "id": "07e59d7b",
   "metadata": {},
   "outputs": [],
   "source": [
    "score = list(enumerate(cosine_similarity[movie_id]))"
   ]
  },
  {
   "cell_type": "code",
   "execution_count": 35,
   "id": "467cd2de",
   "metadata": {},
   "outputs": [],
   "source": [
    "#now sort the similar movies in descending order\n",
    "sorted_score = sorted(score, key=lambda x:x[1], reverse= True)\n",
    "#we will ignore the first score because it will give us a 100% score because it's the same movie \n",
    "sorted_score = sorted_score[1:]"
   ]
  },
  {
   "cell_type": "code",
   "execution_count": 36,
   "id": "0fd86be9",
   "metadata": {},
   "outputs": [
    {
     "data": {
      "text/plain": [
       "[(6757, 0.33333333333333337),\n",
       " (3136, 0.1986798535597566),\n",
       " (6254, 0.1986798535597566),\n",
       " (4483, 0.19529164171612678),\n",
       " (3947, 0.18848425873126295),\n",
       " (5912, 0.18848425873126295),\n",
       " (4840, 0.1861714808514273),\n",
       " (5914, 0.1861714808514273),\n",
       " (1217, 0.18394180184548975),\n",
       " (2324, 0.18179036173052482)]"
      ]
     },
     "execution_count": 36,
     "metadata": {},
     "output_type": "execute_result"
    }
   ],
   "source": [
    "sorted_score[0:10]"
   ]
  },
  {
   "cell_type": "code",
   "execution_count": 37,
   "id": "7bdf89a6",
   "metadata": {},
   "outputs": [
    {
     "name": "stdout",
     "output_type": "stream",
     "text": [
      "1 Teenage Cocktail\n",
      "2 Jagat\n",
      "3 Ninja Hattori\n",
      "4 Macho\n",
      "5 Psychokinesis\n"
     ]
    }
   ],
   "source": [
    "#now showing the top 5 movies similar to TMNT accroding to this algorithm\n",
    "i = 0\n",
    "for item in sorted_score:\n",
    "    movie_title = df[df['id'] == item[0]]['title'].values[0]\n",
    "    print(i+1,movie_title)\n",
    "    i = i+1\n",
    "    if i > 4:\n",
    "        break"
   ]
  },
  {
   "cell_type": "markdown",
   "id": "6b3b3e36",
   "metadata": {},
   "source": [
    "### 2 TF IDF Vectorizer "
   ]
  },
  {
   "cell_type": "code",
   "execution_count": 38,
   "id": "7d7a69fe",
   "metadata": {},
   "outputs": [],
   "source": [
    "import nltk\n",
    "from nltk.corpus import stopwords\n",
    "from sklearn.feature_extraction.text import CountVectorizer\n",
    "from sklearn.feature_extraction.text import TfidfTransformer\n",
    "from sklearn.feature_extraction.text import TfidfVectorizer"
   ]
  },
  {
   "cell_type": "markdown",
   "id": "a7df92ca",
   "metadata": {},
   "source": [
    "### Tfidftransformer"
   ]
  },
  {
   "cell_type": "code",
   "execution_count": 39,
   "id": "9d3b0a61",
   "metadata": {},
   "outputs": [
    {
     "data": {
      "text/plain": [
       "(7305, 49257)"
      ]
     },
     "execution_count": 39,
     "metadata": {},
     "output_type": "execute_result"
    }
   ],
   "source": [
    "#removing stopwords\n",
    "tfidf = TfidfVectorizer(stop_words='english')\n",
    "\n",
    "#get the tf-idf scores\n",
    "#create TF-IDF matrix by fitting and transforming the data\n",
    "tfidf_matrix = tfidf.fit_transform(df_final['cleaned_infos'])\n",
    "\n",
    "#shape of tfidf_matrix\n",
    "tfidf_matrix.shape"
   ]
  },
  {
   "cell_type": "code",
   "execution_count": 40,
   "id": "a931cd7b",
   "metadata": {},
   "outputs": [
    {
     "data": {
      "text/html": [
       "<div>\n",
       "<style scoped>\n",
       "    .dataframe tbody tr th:only-of-type {\n",
       "        vertical-align: middle;\n",
       "    }\n",
       "\n",
       "    .dataframe tbody tr th {\n",
       "        vertical-align: top;\n",
       "    }\n",
       "\n",
       "    .dataframe thead th {\n",
       "        text-align: right;\n",
       "    }\n",
       "</style>\n",
       "<table border=\"1\" class=\"dataframe\">\n",
       "  <thead>\n",
       "    <tr style=\"text-align: right;\">\n",
       "      <th></th>\n",
       "      <th>tf-idf score</th>\n",
       "    </tr>\n",
       "  </thead>\n",
       "  <tbody>\n",
       "    <tr>\n",
       "      <th>007</th>\n",
       "      <td>0.0</td>\n",
       "    </tr>\n",
       "    <tr>\n",
       "      <th>009</th>\n",
       "      <td>0.0</td>\n",
       "    </tr>\n",
       "    <tr>\n",
       "      <th>01</th>\n",
       "      <td>0.0</td>\n",
       "    </tr>\n",
       "    <tr>\n",
       "      <th>10</th>\n",
       "      <td>0.0</td>\n",
       "    </tr>\n",
       "    <tr>\n",
       "      <th>100</th>\n",
       "      <td>0.0</td>\n",
       "    </tr>\n",
       "    <tr>\n",
       "      <th>...</th>\n",
       "      <td>...</td>\n",
       "    </tr>\n",
       "    <tr>\n",
       "      <th>يوم</th>\n",
       "      <td>0.0</td>\n",
       "    </tr>\n",
       "    <tr>\n",
       "      <th>ṣọpẹ</th>\n",
       "      <td>0.0</td>\n",
       "    </tr>\n",
       "    <tr>\n",
       "      <th>마녀사냥</th>\n",
       "      <td>0.0</td>\n",
       "    </tr>\n",
       "    <tr>\n",
       "      <th>반드시</th>\n",
       "      <td>0.0</td>\n",
       "    </tr>\n",
       "    <tr>\n",
       "      <th>잡는다</th>\n",
       "      <td>0.0</td>\n",
       "    </tr>\n",
       "  </tbody>\n",
       "</table>\n",
       "<p>49257 rows × 1 columns</p>\n",
       "</div>"
      ],
      "text/plain": [
       "      tf-idf score\n",
       "007            0.0\n",
       "009            0.0\n",
       "01             0.0\n",
       "10             0.0\n",
       "100            0.0\n",
       "...            ...\n",
       "يوم            0.0\n",
       "ṣọpẹ           0.0\n",
       "마녀사냥           0.0\n",
       "반드시            0.0\n",
       "잡는다            0.0\n",
       "\n",
       "[49257 rows x 1 columns]"
      ]
     },
     "execution_count": 40,
     "metadata": {},
     "output_type": "execute_result"
    }
   ],
   "source": [
    "pd.DataFrame(tfidf_matrix[0].T.todense(), index=tfidf.get_feature_names_out(), columns=[\"tf-idf score\"])"
   ]
  },
  {
   "cell_type": "code",
   "execution_count": 41,
   "id": "64b1b55a",
   "metadata": {},
   "outputs": [
    {
     "name": "stdout",
     "output_type": "stream",
     "text": [
      "CountVectorizer_matrix: [[0 0 0 ... 0 0 0]\n",
      " [0 0 0 ... 0 0 0]\n",
      " [0 0 0 ... 0 0 0]\n",
      " ...\n",
      " [0 0 0 ... 0 0 0]\n",
      " [0 0 0 ... 0 0 0]\n",
      " [0 0 0 ... 0 0 0]]\n",
      "CountVectorizer_matrix: [8.28701329 8.79783892 9.20330403 ... 9.20330403 9.20330403 9.20330403]\n"
     ]
    }
   ],
   "source": [
    "#CountVectorizer: Convert a collection of text documents to a matrix of token counts\n",
    "#TfidfTransformer: Transform a count matrix to a normalized tf or tf-idf representation\n",
    "\n",
    "from sklearn.pipeline import Pipeline\n",
    "\n",
    "pipe = Pipeline([('cv', CountVectorizer(stop_words='english')),\n",
    "                ('tfid', TfidfTransformer())]).fit(df_final['cleaned_infos'])\n",
    "\n",
    "print(\"CountVectorizer_matrix: {}\".format(pipe['cv'].transform(df_final['cleaned_infos']).toarray()))\n",
    "print(\"CountVectorizer_matrix: {}\".format(pipe['tfid'].idf_))"
   ]
  },
  {
   "cell_type": "code",
   "execution_count": 42,
   "id": "7ffdada8",
   "metadata": {},
   "outputs": [
    {
     "data": {
      "text/plain": [
       "(49257,)"
      ]
     },
     "execution_count": 42,
     "metadata": {},
     "output_type": "execute_result"
    }
   ],
   "source": [
    "pipe['tfid'].idf_.shape"
   ]
  },
  {
   "cell_type": "code",
   "execution_count": 43,
   "id": "15a121b6",
   "metadata": {},
   "outputs": [
    {
     "data": {
      "text/html": [
       "<div>\n",
       "<style scoped>\n",
       "    .dataframe tbody tr th:only-of-type {\n",
       "        vertical-align: middle;\n",
       "    }\n",
       "\n",
       "    .dataframe tbody tr th {\n",
       "        vertical-align: top;\n",
       "    }\n",
       "\n",
       "    .dataframe thead th {\n",
       "        text-align: right;\n",
       "    }\n",
       "</style>\n",
       "<table border=\"1\" class=\"dataframe\">\n",
       "  <thead>\n",
       "    <tr style=\"text-align: right;\">\n",
       "      <th></th>\n",
       "      <th>idf_weights</th>\n",
       "    </tr>\n",
       "  </thead>\n",
       "  <tbody>\n",
       "    <tr>\n",
       "      <th>007</th>\n",
       "      <td>8.287013</td>\n",
       "    </tr>\n",
       "    <tr>\n",
       "      <th>009</th>\n",
       "      <td>8.797839</td>\n",
       "    </tr>\n",
       "    <tr>\n",
       "      <th>01</th>\n",
       "      <td>9.203304</td>\n",
       "    </tr>\n",
       "    <tr>\n",
       "      <th>10</th>\n",
       "      <td>6.258865</td>\n",
       "    </tr>\n",
       "    <tr>\n",
       "      <th>100</th>\n",
       "      <td>7.188401</td>\n",
       "    </tr>\n",
       "    <tr>\n",
       "      <th>...</th>\n",
       "      <td>...</td>\n",
       "    </tr>\n",
       "    <tr>\n",
       "      <th>يوم</th>\n",
       "      <td>9.203304</td>\n",
       "    </tr>\n",
       "    <tr>\n",
       "      <th>ṣọpẹ</th>\n",
       "      <td>9.203304</td>\n",
       "    </tr>\n",
       "    <tr>\n",
       "      <th>마녀사냥</th>\n",
       "      <td>9.203304</td>\n",
       "    </tr>\n",
       "    <tr>\n",
       "      <th>반드시</th>\n",
       "      <td>9.203304</td>\n",
       "    </tr>\n",
       "    <tr>\n",
       "      <th>잡는다</th>\n",
       "      <td>9.203304</td>\n",
       "    </tr>\n",
       "  </tbody>\n",
       "</table>\n",
       "<p>49257 rows × 1 columns</p>\n",
       "</div>"
      ],
      "text/plain": [
       "      idf_weights\n",
       "007      8.287013\n",
       "009      8.797839\n",
       "01       9.203304\n",
       "10       6.258865\n",
       "100      7.188401\n",
       "...           ...\n",
       "يوم      9.203304\n",
       "ṣọpẹ     9.203304\n",
       "마녀사냥     9.203304\n",
       "반드시      9.203304\n",
       "잡는다      9.203304\n",
       "\n",
       "[49257 rows x 1 columns]"
      ]
     },
     "execution_count": 43,
     "metadata": {},
     "output_type": "execute_result"
    }
   ],
   "source": [
    "#The lower the IDF value of a word, the less unique it is to any particular document\n",
    "pd.DataFrame(pipe['tfid'].idf_, index=pipe['cv'].get_feature_names_out(), columns=['idf_weights'])"
   ]
  },
  {
   "cell_type": "code",
   "execution_count": 44,
   "id": "42dda012",
   "metadata": {},
   "outputs": [],
   "source": [
    "from sklearn.metrics.pairwise import linear_kernel\n",
    "cosine_sim1 = linear_kernel(tfidf_matrix, tfidf_matrix)"
   ]
  },
  {
   "cell_type": "code",
   "execution_count": 45,
   "id": "d0346485",
   "metadata": {},
   "outputs": [
    {
     "data": {
      "text/plain": [
       "array([[1.        , 0.00417555, 0.        , ..., 0.        , 0.        ,\n",
       "        0.        ],\n",
       "       [0.00417555, 1.        , 0.        , ..., 0.01532764, 0.02958038,\n",
       "        0.02306962],\n",
       "       [0.        , 0.        , 1.        , ..., 0.00556368, 0.00521261,\n",
       "        0.01180479],\n",
       "       ...,\n",
       "       [0.        , 0.01532764, 0.00556368, ..., 1.        , 0.04335326,\n",
       "        0.00110912],\n",
       "       [0.        , 0.02958038, 0.00521261, ..., 0.04335326, 1.        ,\n",
       "        0.00103914],\n",
       "       [0.        , 0.02306962, 0.01180479, ..., 0.00110912, 0.00103914,\n",
       "        1.        ]])"
      ]
     },
     "execution_count": 45,
     "metadata": {},
     "output_type": "execute_result"
    }
   ],
   "source": [
    "cosine_sim1"
   ]
  },
  {
   "cell_type": "markdown",
   "id": "8345394e",
   "metadata": {},
   "source": [
    "### Recommendation engine by description"
   ]
  },
  {
   "cell_type": "code",
   "execution_count": 46,
   "id": "189a4d10",
   "metadata": {},
   "outputs": [],
   "source": [
    "programme_list=df['title'].to_list()"
   ]
  },
  {
   "cell_type": "code",
   "execution_count": 47,
   "id": "1060938c",
   "metadata": {},
   "outputs": [],
   "source": [
    "def recommend(title, cosine_similarity=cosine_sim1):\n",
    "    index = programme_list.index(title)\n",
    "    sim_score = list(enumerate(cosine_sim1[index]))\n",
    "    sim_score = sorted(sim_score, key= lambda x: x[1], reverse=True)[1:11]#position 0 is the movie itself, thus exclude\n",
    "    print(\"Similarity score:\",sim_score)\n",
    "    recommend_index = [i[0] for i in sim_score]\n",
    "    rec_movie = df['title'].iloc[recommend_index]\n",
    "    rec_score = [round(i[1],4) for i in sim_score]\n",
    "    rec_table = pd.DataFrame(list(zip(rec_movie,rec_score)), columns=['Recommend programme','Similarity(0-1)'])\n",
    "    return rec_table"
   ]
  },
  {
   "cell_type": "code",
   "execution_count": 48,
   "id": "76c83dec",
   "metadata": {},
   "outputs": [
    {
     "name": "stdout",
     "output_type": "stream",
     "text": [
      "Similarity score: [(7116, 0.15492716976630666), (7213, 0.10787043371344766), (5181, 0.09613951666668484), (6958, 0.09407457462350426), (5725, 0.0927527424454036), (1150, 0.09246842075848856), (5308, 0.08688172078391437), (975, 0.08525835240567085), (800, 0.08374426058974543), (623, 0.08363018088457448)]\n"
     ]
    },
    {
     "data": {
      "text/html": [
       "<div>\n",
       "<style scoped>\n",
       "    .dataframe tbody tr th:only-of-type {\n",
       "        vertical-align: middle;\n",
       "    }\n",
       "\n",
       "    .dataframe tbody tr th {\n",
       "        vertical-align: top;\n",
       "    }\n",
       "\n",
       "    .dataframe thead th {\n",
       "        text-align: right;\n",
       "    }\n",
       "</style>\n",
       "<table border=\"1\" class=\"dataframe\">\n",
       "  <thead>\n",
       "    <tr style=\"text-align: right;\">\n",
       "      <th></th>\n",
       "      <th>Recommend programme</th>\n",
       "      <th>Similarity(0-1)</th>\n",
       "    </tr>\n",
       "  </thead>\n",
       "  <tbody>\n",
       "    <tr>\n",
       "      <th>0</th>\n",
       "      <td>Thor: Ragnarok</td>\n",
       "      <td>0.1549</td>\n",
       "    </tr>\n",
       "    <tr>\n",
       "      <th>1</th>\n",
       "      <td>War Horse</td>\n",
       "      <td>0.1079</td>\n",
       "    </tr>\n",
       "    <tr>\n",
       "      <th>2</th>\n",
       "      <td>Black Panther</td>\n",
       "      <td>0.0961</td>\n",
       "    </tr>\n",
       "    <tr>\n",
       "      <th>3</th>\n",
       "      <td>The Little Prince</td>\n",
       "      <td>0.0941</td>\n",
       "    </tr>\n",
       "    <tr>\n",
       "      <th>4</th>\n",
       "      <td>Her</td>\n",
       "      <td>0.0928</td>\n",
       "    </tr>\n",
       "    <tr>\n",
       "      <th>5</th>\n",
       "      <td>Chef</td>\n",
       "      <td>0.0925</td>\n",
       "    </tr>\n",
       "    <tr>\n",
       "      <th>6</th>\n",
       "      <td>Chris Brown: Welcome to My Life</td>\n",
       "      <td>0.0869</td>\n",
       "    </tr>\n",
       "    <tr>\n",
       "      <th>7</th>\n",
       "      <td>Penguins of Madagascar: The Movie</td>\n",
       "      <td>0.0853</td>\n",
       "    </tr>\n",
       "    <tr>\n",
       "      <th>8</th>\n",
       "      <td>Get on Up</td>\n",
       "      <td>0.0837</td>\n",
       "    </tr>\n",
       "    <tr>\n",
       "      <th>9</th>\n",
       "      <td>August: Osage County</td>\n",
       "      <td>0.0836</td>\n",
       "    </tr>\n",
       "  </tbody>\n",
       "</table>\n",
       "</div>"
      ],
      "text/plain": [
       "                 Recommend programme  Similarity(0-1)\n",
       "0                     Thor: Ragnarok           0.1549\n",
       "1                          War Horse           0.1079\n",
       "2                      Black Panther           0.0961\n",
       "3                  The Little Prince           0.0941\n",
       "4                                Her           0.0928\n",
       "5                               Chef           0.0925\n",
       "6    Chris Brown: Welcome to My Life           0.0869\n",
       "7  Penguins of Madagascar: The Movie           0.0853\n",
       "8                          Get on Up           0.0837\n",
       "9               August: Osage County           0.0836"
      ]
     },
     "execution_count": 48,
     "metadata": {},
     "output_type": "execute_result"
    }
   ],
   "source": [
    "recommend('Avengers: Infinity War')"
   ]
  },
  {
   "cell_type": "code",
   "execution_count": 51,
   "id": "beaf431c",
   "metadata": {},
   "outputs": [
    {
     "name": "stdout",
     "output_type": "stream",
     "text": [
      "Similarity score: [(1414, 0.16759202848132115), (5069, 0.15492716976630666), (7117, 0.146811042317115), (84, 0.14056482899612877), (4017, 0.0972857828483957), (968, 0.0890800925558627), (3440, 0.08632780169972065), (5308, 0.077036623389565), (7213, 0.07582739473906852), (7178, 0.07226552481650433)]\n"
     ]
    },
    {
     "data": {
      "text/html": [
       "<div>\n",
       "<style scoped>\n",
       "    .dataframe tbody tr th:only-of-type {\n",
       "        vertical-align: middle;\n",
       "    }\n",
       "\n",
       "    .dataframe tbody tr th {\n",
       "        vertical-align: top;\n",
       "    }\n",
       "\n",
       "    .dataframe thead th {\n",
       "        text-align: right;\n",
       "    }\n",
       "</style>\n",
       "<table border=\"1\" class=\"dataframe\">\n",
       "  <thead>\n",
       "    <tr style=\"text-align: right;\">\n",
       "      <th></th>\n",
       "      <th>Recommend programme</th>\n",
       "      <th>Similarity(0-1)</th>\n",
       "    </tr>\n",
       "  </thead>\n",
       "  <tbody>\n",
       "    <tr>\n",
       "      <th>0</th>\n",
       "      <td>Hunt for the Wilderpeople</td>\n",
       "      <td>0.1676</td>\n",
       "    </tr>\n",
       "    <tr>\n",
       "      <th>1</th>\n",
       "      <td>Avengers: Infinity War</td>\n",
       "      <td>0.1549</td>\n",
       "    </tr>\n",
       "    <tr>\n",
       "      <th>2</th>\n",
       "      <td>Thor: Tales of Asgard</td>\n",
       "      <td>0.1468</td>\n",
       "    </tr>\n",
       "    <tr>\n",
       "      <th>3</th>\n",
       "      <td>Green Lantern</td>\n",
       "      <td>0.1406</td>\n",
       "    </tr>\n",
       "    <tr>\n",
       "      <th>4</th>\n",
       "      <td>The Outsider</td>\n",
       "      <td>0.0973</td>\n",
       "    </tr>\n",
       "    <tr>\n",
       "      <th>5</th>\n",
       "      <td>Death of Me</td>\n",
       "      <td>0.0891</td>\n",
       "    </tr>\n",
       "    <tr>\n",
       "      <th>6</th>\n",
       "      <td>Mowgli: Legend of the Jungle</td>\n",
       "      <td>0.0863</td>\n",
       "    </tr>\n",
       "    <tr>\n",
       "      <th>7</th>\n",
       "      <td>Chris Brown: Welcome to My Life</td>\n",
       "      <td>0.0770</td>\n",
       "    </tr>\n",
       "    <tr>\n",
       "      <th>8</th>\n",
       "      <td>War Horse</td>\n",
       "      <td>0.0758</td>\n",
       "    </tr>\n",
       "    <tr>\n",
       "      <th>9</th>\n",
       "      <td>Under an Arctic Sky</td>\n",
       "      <td>0.0723</td>\n",
       "    </tr>\n",
       "  </tbody>\n",
       "</table>\n",
       "</div>"
      ],
      "text/plain": [
       "               Recommend programme  Similarity(0-1)\n",
       "0        Hunt for the Wilderpeople           0.1676\n",
       "1           Avengers: Infinity War           0.1549\n",
       "2            Thor: Tales of Asgard           0.1468\n",
       "3                    Green Lantern           0.1406\n",
       "4                     The Outsider           0.0973\n",
       "5                      Death of Me           0.0891\n",
       "6     Mowgli: Legend of the Jungle           0.0863\n",
       "7  Chris Brown: Welcome to My Life           0.0770\n",
       "8                        War Horse           0.0758\n",
       "9              Under an Arctic Sky           0.0723"
      ]
     },
     "execution_count": 51,
     "metadata": {},
     "output_type": "execute_result"
    }
   ],
   "source": [
    "recommend('Thor: Ragnarok')"
   ]
  },
  {
   "cell_type": "code",
   "execution_count": null,
   "id": "bd87609e",
   "metadata": {},
   "outputs": [],
   "source": []
  }
 ],
 "metadata": {
  "kernelspec": {
   "display_name": "Python 3 (ipykernel)",
   "language": "python",
   "name": "python3"
  },
  "language_info": {
   "codemirror_mode": {
    "name": "ipython",
    "version": 3
   },
   "file_extension": ".py",
   "mimetype": "text/x-python",
   "name": "python",
   "nbconvert_exporter": "python",
   "pygments_lexer": "ipython3",
   "version": "3.11.4"
  }
 },
 "nbformat": 4,
 "nbformat_minor": 5
}
